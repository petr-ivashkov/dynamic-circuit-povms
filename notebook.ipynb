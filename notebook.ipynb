{
 "cells": [
  {
   "cell_type": "code",
   "execution_count": 2,
   "metadata": {},
   "outputs": [],
   "source": [
    "import numpy as np\n",
    "import pickle\n",
    "import pandas as pd\n",
    "import scipy\n",
    "import math\n",
    "import collections\n",
    "from tqdm import tqdm\n",
    "import time\n",
    "import random\n",
    "\n",
    "# Qiskit objects\n",
    "from qiskit import (QuantumCircuit, \n",
    "                    QuantumRegister, \n",
    "                    ClassicalRegister,\n",
    "                    transpile)\n",
    "\n",
    "from qiskit_aer import AerSimulator\n",
    "\n",
    "\n",
    "# Codebase import\n",
    "from src.utilities.path import *\n",
    "from src.modules.binary_tree_povm import *\n",
    "from src.modules.naimark_povm import *\n",
    "from src.utilities.helpers import *\n",
    "from src.utilities.circuit_composers import *\n",
    "from src.utilities.state_tomography import *\n",
    "from src.utilities.crem import *"
   ]
  },
  {
   "cell_type": "code",
   "execution_count": 3,
   "metadata": {},
   "outputs": [],
   "source": [
    "# Loading POVM and vector data for SIC-POVMs in 2D and 4D spaces.\n",
    "sic_4d_povm = pickle.load(open(path + \"data/povms/sic_4d_povm.p\", \"rb\"))\n",
    "sic_2d_povm = pickle.load(open(path + \"data/povms/sic_2d_povm.p\", \"rb\"))\n",
    "\n",
    "sic_4d_vectors = pickle.load(open(path + \"data/povms/sic_4d_vectors.p\", \"rb\"))\n",
    "sic_2d_vectors = pickle.load(open(path + \"data/povms/sic_2d_vectors.p\", \"rb\"))"
   ]
  },
  {
   "cell_type": "code",
   "execution_count": null,
   "metadata": {},
   "outputs": [],
   "source": [
    "binary_povm_circuit = "
   ]
  }
 ],
 "metadata": {
  "kernelspec": {
   "display_name": "qiskit_qamp",
   "language": "python",
   "name": "python3"
  },
  "language_info": {
   "codemirror_mode": {
    "name": "ipython",
    "version": 3
   },
   "file_extension": ".py",
   "mimetype": "text/x-python",
   "name": "python",
   "nbconvert_exporter": "python",
   "pygments_lexer": "ipython3",
   "version": "3.9.13"
  }
 },
 "nbformat": 4,
 "nbformat_minor": 2
}
